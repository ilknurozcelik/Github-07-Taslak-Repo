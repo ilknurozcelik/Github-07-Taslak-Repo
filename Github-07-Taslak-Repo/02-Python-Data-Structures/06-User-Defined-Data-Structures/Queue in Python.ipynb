{
 "cells": [
  {
   "cell_type": "markdown",
   "metadata": {},
   "source": [
    "for More - https://www.sololearn.com/"
   ]
  },
  {
   "cell_type": "markdown",
   "metadata": {},
   "source": [
    "# Queue\n",
    "```\n",
    "A queue is similar to a stack, but defines a different way to add and remover elements.\n",
    "The elements are inserted from one end, called the rear, and deleted from the other end, called the front.\n",
    "This behavior is called FIFO (First in First Out).\n",
    "\n",
    "Terminology\n",
    "The process of adding new elements into the queue is called enqueue.\n",
    "The process of removal of an element from the queue is called dequeue.\n",
    "\n",
    "Applications\n",
    "Queues are used whenever we need to manage objects in order starting with the first one in.\n",
    "Scenarios include printing documents on a printer, call center systems answering people on hold, and so on.\n",
    "```\n",
    "`Note: Python lists are the easiest way to implement a queue functionality.`"
   ]
  },
  {
   "cell_type": "markdown",
   "metadata": {},
   "source": [
    "# Queue in Python\n",
    "```\n",
    "Let's implement the `Queue class`: \n",
    "    -   with it's corresponding `enqueue, dequeue, is_empty and print` methods.\n",
    "\n",
    "We will use a list to store the elements.\n",
    "\n",
    "The `enqueue method` adds an element at the beginning of the list, \n",
    "while the `dequeue method` removes the last element.\n",
    "```"
   ]
  },
  {
   "cell_type": "code",
   "execution_count": 1,
   "metadata": {},
   "outputs": [],
   "source": [
    "class Queue:\n",
    "    def __init__(self):\n",
    "        self.items = []\n",
    "\n",
    "    def is_empty(self):\n",
    "        return self.items == []\n",
    "\n",
    "    def enqueue(self, item):\n",
    "        self.items.insert(0, item)\n",
    "\n",
    "    def dequeue(self):\n",
    "        return self.items.pop()\n",
    "\n",
    "    def print_queue(self):\n",
    "        print(self.items)"
   ]
  },
  {
   "cell_type": "code",
   "execution_count": 2,
   "metadata": {},
   "outputs": [
    {
     "name": "stdout",
     "output_type": "stream",
     "text": [
      "Help on Queue in module __main__ object:\n",
      "\n",
      "class Queue(builtins.object)\n",
      " |  Methods defined here:\n",
      " |  \n",
      " |  __init__(self)\n",
      " |      Initialize self.  See help(type(self)) for accurate signature.\n",
      " |  \n",
      " |  dequeue(self)\n",
      " |  \n",
      " |  enqueue(self, item)\n",
      " |  \n",
      " |  is_empty(self)\n",
      " |  \n",
      " |  print_queue(self)\n",
      " |  \n",
      " |  ----------------------------------------------------------------------\n",
      " |  Data descriptors defined here:\n",
      " |  \n",
      " |  __dict__\n",
      " |      dictionary for instance variables (if defined)\n",
      " |  \n",
      " |  __weakref__\n",
      " |      list of weak references to the object (if defined)\n",
      "\n"
     ]
    },
    {
     "data": {
      "text/plain": [
       "(<__main__.Queue at 0x22a932dc940>, None)"
      ]
     },
     "execution_count": 2,
     "metadata": {},
     "output_type": "execute_result"
    }
   ],
   "source": [
    "q = Queue()\n",
    "q, help(q)"
   ]
  },
  {
   "cell_type": "code",
   "execution_count": 3,
   "metadata": {},
   "outputs": [
    {
     "name": "stdout",
     "output_type": "stream",
     "text": [
      "['42', 'b', 'a']\n"
     ]
    }
   ],
   "source": [
    "q.enqueue('a')\n",
    "q.enqueue('b')\n",
    "q.enqueue('42')\n",
    "q.print_queue()"
   ]
  },
  {
   "cell_type": "code",
   "execution_count": 4,
   "metadata": {},
   "outputs": [
    {
     "name": "stdout",
     "output_type": "stream",
     "text": [
      "['42', 'b']\n"
     ]
    }
   ],
   "source": [
    "q.dequeue()\n",
    "q.print_queue()"
   ]
  }
 ],
 "metadata": {
  "interpreter": {
   "hash": "0dd272924c7cc597c5889018966c2ccb6c9651b4aec44649117dbf66b8c76eee"
  },
  "kernelspec": {
   "display_name": "Python 3.10.4 64-bit",
   "language": "python",
   "name": "python3"
  },
  "language_info": {
   "codemirror_mode": {
    "name": "ipython",
    "version": 3
   },
   "file_extension": ".py",
   "mimetype": "text/x-python",
   "name": "python",
   "nbconvert_exporter": "python",
   "pygments_lexer": "ipython3",
   "version": "3.10.4"
  },
  "orig_nbformat": 4
 },
 "nbformat": 4,
 "nbformat_minor": 2
}
