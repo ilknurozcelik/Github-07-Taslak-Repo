{
 "cells": [
  {
   "cell_type": "markdown",
   "metadata": {},
   "source": [
    "for More - https://www.sololearn.com/"
   ]
  },
  {
   "cell_type": "markdown",
   "metadata": {},
   "source": [
    "# Stack\n",
    "```\n",
    "A stack is a simple data structure that adds and removes elements in a particular order.\n",
    "Every time an element is added, it goes on the \"top\" of the stack. Only an element at the top of the stack can be removed, just like a stack of plates. This behavior is called LIFO (Last In, First Out).\n",
    "\n",
    "Terminology\n",
    "Adding a new element onto the stack is called push.\n",
    "Removing an element from the stack is called pop.\n",
    "\n",
    "Applications\n",
    "Stacks can be used to create undo-redo functionalities, parsing expressions (infix to postfix/prefix conversion), and much more.\n",
    "```\n",
    "`Note: A stack can be implemented using a list in Python.`"
   ]
  },
  {
   "cell_type": "markdown",
   "metadata": {},
   "source": [
    "# Stack in Python\n",
    "```\n",
    "Let's define and implement the `Stack class`:\n",
    "    -   with its corresponding `push, pop, is_empty and print_stack` methods.\n",
    "    -   We will use a list to store the data.\n",
    "\n",
    "As you can see, it's easy to create a stack using a list.\n",
    "We use a list called items to store our elements.\n",
    "\n",
    "-   The `push method` adds an element at the beginning of the list, \n",
    "-   while the `pop method` removes the first element of the list.\n",
    "```"
   ]
  },
  {
   "cell_type": "code",
   "execution_count": 2,
   "metadata": {},
   "outputs": [],
   "source": [
    "class Stack:\n",
    "    def __init__(self):\n",
    "        self.items = []  \n",
    "  \n",
    "    def is_empty(self):\n",
    "        return self.items == []\n",
    "  \n",
    "    def push(self, item):\n",
    "        self.items.insert(0, item)\n",
    "    \n",
    "    def pop(self):\n",
    "        return self.items.pop(0)\n",
    "    \n",
    "    def print_stack(self):\n",
    "        print(self.items)"
   ]
  },
  {
   "cell_type": "code",
   "execution_count": 8,
   "metadata": {},
   "outputs": [
    {
     "name": "stdout",
     "output_type": "stream",
     "text": [
      "Help on Stack in module __main__ object:\n",
      "\n",
      "class Stack(builtins.object)\n",
      " |  Methods defined here:\n",
      " |  \n",
      " |  __init__(self)\n",
      " |      Initialize self.  See help(type(self)) for accurate signature.\n",
      " |  \n",
      " |  is_empty(self)\n",
      " |  \n",
      " |  pop(self)\n",
      " |  \n",
      " |  print_stack(self)\n",
      " |  \n",
      " |  push(self, item)\n",
      " |  \n",
      " |  ----------------------------------------------------------------------\n",
      " |  Data descriptors defined here:\n",
      " |  \n",
      " |  __dict__\n",
      " |      dictionary for instance variables (if defined)\n",
      " |  \n",
      " |  __weakref__\n",
      " |      list of weak references to the object (if defined)\n",
      "\n"
     ]
    },
    {
     "data": {
      "text/plain": [
       "(<__main__.Stack at 0x288399bf640>, None)"
      ]
     },
     "execution_count": 8,
     "metadata": {},
     "output_type": "execute_result"
    }
   ],
   "source": [
    "s = Stack()\n",
    "s, help(s)"
   ]
  },
  {
   "cell_type": "code",
   "execution_count": 4,
   "metadata": {},
   "outputs": [
    {
     "name": "stdout",
     "output_type": "stream",
     "text": [
      "['c', 'b', 'a']\n"
     ]
    }
   ],
   "source": [
    "s.push('a')\n",
    "s.push('b')\n",
    "s.push('c')\n",
    "s.print_stack()"
   ]
  },
  {
   "cell_type": "code",
   "execution_count": 5,
   "metadata": {},
   "outputs": [
    {
     "name": "stdout",
     "output_type": "stream",
     "text": [
      "['b', 'a']\n"
     ]
    }
   ],
   "source": [
    "s.pop()\n",
    "s.print_stack()"
   ]
  }
 ],
 "metadata": {
  "interpreter": {
   "hash": "0dd272924c7cc597c5889018966c2ccb6c9651b4aec44649117dbf66b8c76eee"
  },
  "kernelspec": {
   "display_name": "Python 3.10.4 64-bit",
   "language": "python",
   "name": "python3"
  },
  "language_info": {
   "codemirror_mode": {
    "name": "ipython",
    "version": 3
   },
   "file_extension": ".py",
   "mimetype": "text/x-python",
   "name": "python",
   "nbconvert_exporter": "python",
   "pygments_lexer": "ipython3",
   "version": "3.10.4"
  },
  "orig_nbformat": 4
 },
 "nbformat": 4,
 "nbformat_minor": 2
}
