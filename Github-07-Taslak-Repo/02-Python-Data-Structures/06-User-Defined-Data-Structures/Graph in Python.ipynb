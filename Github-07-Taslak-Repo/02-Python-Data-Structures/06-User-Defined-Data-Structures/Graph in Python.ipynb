{
 "cells": [
  {
   "cell_type": "markdown",
   "metadata": {},
   "source": [
    "for More - https://www.sololearn.com/"
   ]
  },
  {
   "cell_type": "markdown",
   "metadata": {},
   "source": [
    "# Graph\n",
    "```\n",
    "Graphs are used to represent many real-life applications like networks, transportation paths of a city, and social network connections.\n",
    "\n",
    "A graph is a set of connected nodes where each node is called a Vertex and the connection between two of them is called an Edge.\n",
    "\n",
    "This can represent, for example, connections on a social network, where each Vertex represents a person and the Edges represent connections.\n",
    "```\n",
    "`Tap Continue to check out the implementation of the graph in Python!`"
   ]
  },
  {
   "cell_type": "markdown",
   "metadata": {},
   "source": [
    "# Graph in Python\n",
    "```\n",
    "A graph can be represented using a square matrix, where each element represents the edges: 0 indicates no edge, while 1 indicates an edge. The rows and columns represent the vertices.\n",
    "\n",
    "For example:\n",
    "    -   011\n",
    "        100\n",
    "        100\n",
    "\n",
    "The matrix above represents a graph with 3 vertices (that's why it's a 3x3 matrix).\n",
    "The 1s represent the edges. There are 2 edges: the 1st vertex is connected with the 2nd and 3rd.\n",
    "There are four 1s in the matrix, because if A is connected with B, then B is connected to A.\n",
    "```\n",
    "`This type of matrix is called an adjacency matrix, because it shows if the corresponding vertices are adjacent or not.`"
   ]
  },
  {
   "cell_type": "markdown",
   "metadata": {},
   "source": [
    "# Graph in Python\n",
    "```\n",
    "Let's implement the Graph class:\n",
    "    -   \n",
    "We store the matrix in a two-dimensional list, called adj.\n",
    "The __init__ method creates the adj matrix with the given size (number of vertices) and initializes all values to zeros.\n",
    "The add_edge() method is used to add an edge by setting the corresponding values to 1.\n",
    "Similarly, the remove_edge() method sets the values to 0.\n",
    "```"
   ]
  },
  {
   "cell_type": "code",
   "execution_count": null,
   "metadata": {},
   "outputs": [],
   "source": []
  }
 ],
 "metadata": {
  "language_info": {
   "name": "python"
  },
  "orig_nbformat": 4
 },
 "nbformat": 4,
 "nbformat_minor": 2
}
