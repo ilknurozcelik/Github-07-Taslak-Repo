{
 "cells": [
  {
   "cell_type": "markdown",
   "metadata": {},
   "source": [
    "for More - https://www.sololearn.com/"
   ]
  },
  {
   "cell_type": "markdown",
   "metadata": {},
   "source": [
    "# Linked List\n",
    "```\n",
    "A linked list is a sequence of nodes where each node stores its own data and a link to the next node.\n",
    "One node links to another forming what can be thought of as a linked chain:\n",
    "The first node is called the head, and it's used as the starting point for any iteration through the list. The last node must have its link pointing to None to determine the end of the list.\n",
    "\n",
    "Unlike stacks and queues, you can insert and remove nodes in any position of the linked list (similar to a standard list).\n",
    "\n",
    "Applications\n",
    "\n",
    "Linked lists are useful when your data is linked. For example when you need undo/redo functionality, the nodes can represent the state with links to the previous and next states. Another example would be a playlist of music, where each clip is linked with the next one.\n",
    "```\n",
    "`Note: Linked lists can also be used to create other data structures, such as stack, queues and graphs.`"
   ]
  },
  {
   "cell_type": "markdown",
   "metadata": {},
   "source": [
    "# Linked List in Python\n",
    "```\n",
    "Each node will include data and the link to the next node.\n",
    "\n",
    "Let's start by creating the Node class:\n",
    "    -   class Node:\n",
    "\n",
    "Now we can create the LinkedList class with the corresponding methods:\n",
    "    -   class LinkedList:\n",
    "The add_at_front() method adds a new Node as the head of the list and links the previous head to it.\n",
    "\n",
    "The add_at_end() method iterates to the end of the list using a while loop and adds the new node as the link of the last node.\n",
    "```"
   ]
  },
  {
   "cell_type": "code",
   "execution_count": 4,
   "metadata": {},
   "outputs": [],
   "source": [
    "class Node:\n",
    "  def __init__(self, data, next):\n",
    "    self.data = data\n",
    "    self.next = next"
   ]
  },
  {
   "cell_type": "code",
   "execution_count": 6,
   "metadata": {},
   "outputs": [
    {
     "name": "stdout",
     "output_type": "stream",
     "text": [
      "Help on Node in module __main__ object:\n",
      "\n",
      "class Node(builtins.object)\n",
      " |  Node(data, next)\n",
      " |  \n",
      " |  Methods defined here:\n",
      " |  \n",
      " |  __init__(self, data, next)\n",
      " |      Initialize self.  See help(type(self)) for accurate signature.\n",
      " |  \n",
      " |  ----------------------------------------------------------------------\n",
      " |  Data descriptors defined here:\n",
      " |  \n",
      " |  __dict__\n",
      " |      dictionary for instance variables (if defined)\n",
      " |  \n",
      " |  __weakref__\n",
      " |      list of weak references to the object (if defined)\n",
      "\n"
     ]
    },
    {
     "data": {
      "text/plain": [
       "(<__main__.Node at 0x2855b50b4f0>, None)"
      ]
     },
     "execution_count": 6,
     "metadata": {},
     "output_type": "execute_result"
    }
   ],
   "source": [
    "n = Node('data', 'next')\n",
    "n, help(n)"
   ]
  },
  {
   "cell_type": "code",
   "execution_count": 1,
   "metadata": {},
   "outputs": [],
   "source": [
    "class LinkedList:\n",
    "    def __init__(self):\n",
    "        self.head = None\n",
    "    \n",
    "    def add_at_front(self, data):\n",
    "        self.head = Node(data, self.head)      \n",
    "\n",
    "    def add_at_end(self, data):\n",
    "        if not self.head:\n",
    "            self.head = Node(data, None)\n",
    "            return\n",
    "        curr = self.head\n",
    "        while curr.next:\n",
    "            curr = curr.next\n",
    "        curr.next = Node(data, None)\n",
    "\n",
    "    def get_last_node(self):\n",
    "        n = self.head\n",
    "        while(n.next != None):\n",
    "            n = n.next\n",
    "        return n.data\n",
    "\n",
    "    def is_empty(self):\n",
    "        return self.head == None\n",
    "\n",
    "    def print_list(self):\n",
    "        n = self.head\n",
    "        while n != None:\n",
    "            print(n.data, end = \" => \")\n",
    "            n = n.next\n",
    "        print()"
   ]
  },
  {
   "cell_type": "code",
   "execution_count": 7,
   "metadata": {},
   "outputs": [
    {
     "name": "stdout",
     "output_type": "stream",
     "text": [
      "Help on LinkedList in module __main__ object:\n",
      "\n",
      "class LinkedList(builtins.object)\n",
      " |  Methods defined here:\n",
      " |  \n",
      " |  __init__(self)\n",
      " |      Initialize self.  See help(type(self)) for accurate signature.\n",
      " |  \n",
      " |  add_at_end(self, data)\n",
      " |  \n",
      " |  add_at_front(self, data)\n",
      " |  \n",
      " |  get_last_node(self)\n",
      " |  \n",
      " |  is_empty(self)\n",
      " |  \n",
      " |  print_list(self)\n",
      " |  \n",
      " |  ----------------------------------------------------------------------\n",
      " |  Data descriptors defined here:\n",
      " |  \n",
      " |  __dict__\n",
      " |      dictionary for instance variables (if defined)\n",
      " |  \n",
      " |  __weakref__\n",
      " |      list of weak references to the object (if defined)\n",
      "\n"
     ]
    },
    {
     "data": {
      "text/plain": [
       "(<__main__.LinkedList at 0x2855b42c130>, None)"
      ]
     },
     "execution_count": 7,
     "metadata": {},
     "output_type": "execute_result"
    }
   ],
   "source": [
    "s = LinkedList()\n",
    "s, help(s)"
   ]
  },
  {
   "cell_type": "code",
   "execution_count": 11,
   "metadata": {},
   "outputs": [
    {
     "data": {
      "text/plain": [
       "<__main__.LinkedList at 0x2855b42c130>"
      ]
     },
     "execution_count": 11,
     "metadata": {},
     "output_type": "execute_result"
    }
   ],
   "source": [
    "s.add_at_front(5)\n",
    "s.add_at_end(8)\n",
    "s.add_at_front(9)\n",
    "s"
   ]
  },
  {
   "cell_type": "code",
   "execution_count": 12,
   "metadata": {},
   "outputs": [
    {
     "name": "stdout",
     "output_type": "stream",
     "text": [
      "9 => 5 => 9 => 5 => 9 => 5 => 9 => 5 => 8 => 8 => 8 => 8 => \n",
      "8\n"
     ]
    }
   ],
   "source": [
    "s.print_list()\n",
    "print(s.get_last_node())"
   ]
  }
 ],
 "metadata": {
  "interpreter": {
   "hash": "0dd272924c7cc597c5889018966c2ccb6c9651b4aec44649117dbf66b8c76eee"
  },
  "kernelspec": {
   "display_name": "Python 3.10.4 64-bit",
   "language": "python",
   "name": "python3"
  },
  "language_info": {
   "codemirror_mode": {
    "name": "ipython",
    "version": 3
   },
   "file_extension": ".py",
   "mimetype": "text/x-python",
   "name": "python",
   "nbconvert_exporter": "python",
   "pygments_lexer": "ipython3",
   "version": "3.10.4"
  },
  "orig_nbformat": 4
 },
 "nbformat": 4,
 "nbformat_minor": 2
}
